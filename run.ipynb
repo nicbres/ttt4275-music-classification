{
 "cells": [
  {
   "cell_type": "markdown",
   "metadata": {},
   "source": [
    "# TTT4275 Classification Project: Music Genre Classification"
   ]
  },
  {
   "cell_type": "markdown",
   "metadata": {},
   "source": [
    "## Setup"
   ]
  },
  {
   "cell_type": "code",
   "execution_count": 49,
   "metadata": {},
   "outputs": [],
   "source": [
    "# Imports\n",
    "import source.data_handling\n",
    "import source.mappings\n",
    "import source.plotting\n",
    "import source.diy_classifiers\n",
    "\n",
    "import numpy as np"
   ]
  },
  {
   "cell_type": "code",
   "execution_count": 50,
   "metadata": {},
   "outputs": [],
   "source": [
    "# Load the dataset and split into training and test\n",
    "# X = M x N dataset with M samples of N features\n",
    "\n",
    "data_version = source.data_handling.GENRE_CLASS_DATA_30S\n",
    "data_frame = source.data_handling.read_genre_class_data(data_version)\n",
    "\n",
    "features = source.mappings.MUSIC_FEATURES_ALL\n",
    "\n",
    "training_data, test_data = source.data_handling.prepare_data(\n",
    "    data_frame=data_frame,\n",
    "    features=features,\n",
    ")"
   ]
  },
  {
   "cell_type": "markdown",
   "metadata": {},
   "source": [
    "## Task 1"
   ]
  },
  {
   "cell_type": "markdown",
   "metadata": {},
   "source": [
    "Using only the four features given in task 1a), we plot the confusion matrix and error rate for all genres."
   ]
  },
  {
   "cell_type": "code",
   "execution_count": 51,
   "metadata": {},
   "outputs": [
    {
     "data": {
      "image/png": "[encoded data removed]",
      "text/plain": [
       "<Figure size 432x288 with 2 Axes>"
      ]
     },
     "metadata": {
      "needs_background": "light"
     },
     "output_type": "display_data"
    }
   ],
   "source": [
    "features_task_1 = [\"spectral_rolloff_mean\", \"tempo\", \"spectral_centroid_mean\", \"mfcc_1_mean\"]\n",
    "\n",
    "training_data, test_data = source.data_handling.prepare_data(\n",
    "    data_frame=data_frame,\n",
    "    features=features_task_1,\n",
    ")\n",
    "\n",
    "y_pred_task1 = source.diy_classifiers.kNN(k=5, train_data=training_data, test_data=test_data, p=2)\n",
    "y_true_task1 = test_data.y\n",
    "\n",
    "source.plotting.confusion_matrix(y_true_task1, y_pred_task1)"
   ]
  },
  {
   "cell_type": "markdown",
   "metadata": {},
   "source": [
    "### KNN Parameters\n",
    "Using all features we plot the error rates with respect to the number of neighbors and using different orders of the Minkowski order (p).\n",
    "Once for our own implementation of the kNN classifier"
   ]
  },
  {
   "cell_type": "code",
   "execution_count": null,
   "metadata": {},
   "outputs": [],
   "source": [
    "training_data, test_data = source.data_handling.prepare_data(\n",
    "    data_frame=data_frame,\n",
    ")\n",
    "\n",
    "ks = np.arange(20) + 1\n",
    "ps = np.arange(10) + 1\n",
    "\n",
    "source.plotting.error_rates_vs_params(ks, ps, training_data, test_data, diy=True)"
   ]
  },
  {
   "cell_type": "markdown",
   "metadata": {},
   "source": [
    "And another time for the sklearn implementation"
   ]
  },
  {
   "cell_type": "code",
   "execution_count": null,
   "metadata": {},
   "outputs": [],
   "source": [
    "training_data, test_data = source.data_handling.prepare_data(\n",
    "    data_frame=data_frame,\n",
    ")\n",
    "\n",
    "ks = np.arange(20) + 1\n",
    "ps = np.arange(10) + 1\n",
    "\n",
    "source.plotting.error_rates_vs_params(ks, ps, training_data, test_data, diy=False)"
   ]
  },
  {
   "cell_type": "markdown",
   "metadata": {},
   "source": [
    "A larger number of neighbors to take into consideration could be beneficial when using KNN. Although the improvement is only small. Regarding the order of the Minkowski distance, interestingly the first order or Manhatten distance seems to perform the best and subsequent orders have worse error rates.\n",
    "For both of these plots the improvement is not negligeable but small nonetheless."
   ]
  },
  {
   "cell_type": "markdown",
   "metadata": {},
   "source": [
    "## Task 2"
   ]
  },
  {
   "cell_type": "code",
   "execution_count": null,
   "metadata": {},
   "outputs": [],
   "source": [
    "features_task_2 = [\"spectral_rolloff_mean\", \"tempo\", \"spectral_centroid_mean\", \"mfcc_1_mean\"]\n",
    "genres_task_2 = [\"pop\", \"disco\", \"metal\", \"classical\"]"
   ]
  },
  {
   "cell_type": "code",
   "execution_count": null,
   "metadata": {},
   "outputs": [],
   "source": [
    "source.plotting.feature_distribution_histogram(\n",
    "    data_frame=data_frame,\n",
    "    features=features_task_2,\n",
    "    genres=genres_task_2,\n",
    ")"
   ]
  },
  {
   "cell_type": "markdown",
   "metadata": {},
   "source": [
    "As the tempo feature seems to have the largest overlap between the classes, we remove that feature and run the knn classifier from task 1 for all genres again."
   ]
  },
  {
   "cell_type": "code",
   "execution_count": null,
   "metadata": {},
   "outputs": [],
   "source": [
    "reduced_features_task_2 = [\"spectral_rolloff_mean\", \"spectral_centroid_mean\", \"mfcc_1_mean\"]\n",
    "\n",
    "training_data, test_data = source.data_handling.prepare_data(\n",
    "    data_frame=data_frame,\n",
    "    features=reduced_features_task_2,\n",
    ")\n",
    "\n",
    "y_pred_task1 = source.diy_classifiers.kNN(train_data=training_data, test_data=test_data, k=5, p=2)\n",
    "y_true_task1 = test_data.y\n",
    "\n",
    "source.plotting.confusion_matrix(y_true_task1, y_pred_task1)"
   ]
  },
  {
   "cell_type": "markdown",
   "metadata": {},
   "source": [
    "For whatever reason removing the tempo does not seem to have a valueable impact on the error rate of the classifier."
   ]
  },
  {
   "cell_type": "markdown",
   "metadata": {},
   "source": [
    "Using only one of the features we run the classifier and for the four genres and take a look at the performance."
   ]
  },
  {
   "cell_type": "code",
   "execution_count": null,
   "metadata": {},
   "outputs": [],
   "source": [
    "for feature in features_task_2:\n",
    "    training_data, test_data = source.data_handling.prepare_data(\n",
    "        data_frame=data_frame,\n",
    "        features=[feature],\n",
    "        genres=genres_task_2,\n",
    "    )\n",
    "\n",
    "    y_pred_task1 = source.diy_classifiers.kNN(train_data=training_data, test_data=test_data, k=5, p=2)\n",
    "    y_true_task1 = test_data.y\n",
    "    \n",
    "    print(f\"{feature}\")\n",
    "    source.plotting.confusion_matrix(y_true_task1, y_pred_task1)"
   ]
  },
  {
   "cell_type": "markdown",
   "metadata": {},
   "source": [
    "## Task 3"
   ]
  },
  {
   "cell_type": "code",
   "execution_count": null,
   "metadata": {},
   "outputs": [],
   "source": [
    "# Crazy code"
   ]
  },
  {
   "cell_type": "markdown",
   "metadata": {},
   "source": [
    "## Task 4"
   ]
  },
  {
   "cell_type": "markdown",
   "metadata": {},
   "source": [
    "The current idea for our classifier design is to do three steps:\n",
    "1. Scaling\n",
    "2. Dimension Reduction\n",
    "3. Classification"
   ]
  },
  {
   "cell_type": "markdown",
   "metadata": {},
   "source": [
    "### Sklearn Pipelines\n",
    "To figure out what could be the best approach for this, we'll do some exploratory work using sklearns pipelines to determine what has the largest impact on performance."
   ]
  },
  {
   "cell_type": "markdown",
   "metadata": {},
   "source": [
    "#### Scaling\n",
    "There are a few different methods of scaling the input data. First and foremost the effect of having scaling versus not having scaling at all is taken into consideration."
   ]
  },
  {
   "cell_type": "code",
   "execution_count": null,
   "metadata": {},
   "outputs": [],
   "source": [
    "import sklearn.decomposition\n",
    "import sklearn.neighbors\n",
    "import sklearn.pipeline\n",
    "import sklearn.preprocessing"
   ]
  },
  {
   "cell_type": "code",
   "execution_count": null,
   "metadata": {},
   "outputs": [],
   "source": [
    "training_data, test_data = source.data_handling.prepare_data(\n",
    "    data_frame=data_frame,\n",
    ")\n",
    "\n",
    "pipelines = [\n",
    "    sklearn.pipeline.Pipeline([\n",
    "        ('classifier', sklearn.neighbors.KNeighborsClassifier(n_neighbors=5, p=2)),\n",
    "    ]),\n",
    "    sklearn.pipeline.Pipeline([\n",
    "        ('scaler', sklearn.preprocessing.MaxAbsScaler()),\n",
    "        ('classifier', sklearn.neighbors.KNeighborsClassifier(n_neighbors=5, p=2)),\n",
    "    ]),\n",
    "]\n",
    "\n",
    "for pipeline in pipelines:\n",
    "    pipeline.fit(training_data.x, training_data.y)\n",
    "    predict_y = pipeline.predict(test_data.x)\n",
    "    \n",
    "    source.plotting.confusion_matrix(test_data.y, predict_y)"
   ]
  },
  {
   "cell_type": "markdown",
   "metadata": {},
   "source": [
    "#### Dimension Reduction\n",
    "Instead of having to run the classifier on all dimensions we can try to reduce the dimensions. For the KNN approach this will help with computing the distances once the dataset actually gets larger.\n",
    "For now we can think of using:\n",
    "- principle component analysis\n",
    "- partial least squares discriminant analysis\n",
    "- autoencoder"
   ]
  },
  {
   "cell_type": "markdown",
   "metadata": {},
   "source": [
    "##### Principle Component Analysis"
   ]
  },
  {
   "cell_type": "code",
   "execution_count": null,
   "metadata": {},
   "outputs": [],
   "source": [
    "training_data, test_data = source.data_handling.prepare_data(\n",
    "    data_frame=data_frame,\n",
    ")\n",
    "\n",
    "pca_pipelines = [\n",
    "    ('KNN - all PCA components', sklearn.pipeline.Pipeline([\n",
    "        ('scaler', sklearn.preprocessing.MaxAbsScaler()),\n",
    "        ('reduce_dimension', sklearn.decomposition.PCA()),\n",
    "        ('classifier', sklearn.neighbors.KNeighborsClassifier(n_neighbors=5, p=2)),\n",
    "    ])),\n",
    "    ('KNN - 15 first PCA components',\n",
    "    sklearn.pipeline.Pipeline([\n",
    "        ('scaler', sklearn.preprocessing.MaxAbsScaler()),\n",
    "        ('reduce_dimension', sklearn.decomposition.PCA(n_components=15)),\n",
    "        ('classifier', sklearn.neighbors.KNeighborsClassifier(n_neighbors=5, p=2)),\n",
    "    ])),\n",
    "    ('SVM - no PCA all features',\n",
    "    sklearn.pipeline.Pipeline([\n",
    "        ('scaler', sklearn.preprocessing.MaxAbsScaler()),\n",
    "        ('classifier', sklearn.svm.SVC(kernel='rbf', decision_function_shape='ovo')),\n",
    "    ])),\n",
    "    ('SVM - all PCA components',\n",
    "    sklearn.pipeline.Pipeline([\n",
    "        ('scaler', sklearn.preprocessing.MaxAbsScaler()),\n",
    "        ('reduce_dimension', sklearn.decomposition.PCA()),\n",
    "        ('classifier', sklearn.svm.SVC(kernel='rbf', decision_function_shape='ovo')),\n",
    "    ])),\n",
    "    ('SVM - 15 first PCA components',\n",
    "    sklearn.pipeline.Pipeline([\n",
    "        ('scaler', sklearn.preprocessing.MaxAbsScaler()),\n",
    "        ('reduce_dimension', sklearn.decomposition.PCA(n_components=15)),\n",
    "        ('classifier', sklearn.svm.SVC(kernel='rbf', decision_function_shape='ovo')),\n",
    "    ])),\n",
    "]\n",
    "\n",
    "for name, pipeline in pca_pipelines:\n",
    "    print(name)\n",
    "    pipeline.fit(training_data.x, training_data.y)\n",
    "    predict_y = pipeline.predict(test_data.x)\n",
    "    \n",
    "    source.plotting.confusion_matrix(test_data.y, predict_y)"
   ]
  },
  {
   "cell_type": "markdown",
   "metadata": {},
   "source": [
    "The observed results would imply that PCA does not positively affect the KNN classifier in anyway, but it could do so when using an SVM as the classifier method."
   ]
  },
  {
   "cell_type": "markdown",
   "metadata": {},
   "source": [
    "#### Classifier\n",
    "So far we have only used the KNN classifier. Here we can also consider alternatives and the list to explore could look like:\n",
    "- KNN\n",
    "- Support Vector Machines\n",
    "- Multi Layer Perceptron"
   ]
  }
 ],
 "metadata": {
  "interpreter": {
   "hash": "02c7fd4f67f2c782ef46ba90ab2511519fb6675306550c87ee5052d65dd2ffe0"
  },
  "kernelspec": {
   "display_name": "Python 3 (ipykernel)",
   "language": "python",
   "name": "python3"
  },
  "language_info": {
   "codemirror_mode": {
    "name": "ipython",
    "version": 3
   },
   "file_extension": ".py",
   "mimetype": "text/x-python",
   "name": "python",
   "nbconvert_exporter": "python",
   "pygments_lexer": "ipython3",
   "version": "3.10.4"
  }
 },
 "nbformat": 4,
 "nbformat_minor": 2
}
